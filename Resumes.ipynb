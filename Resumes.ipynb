{
 "cells": [
  {
   "cell_type": "markdown",
   "metadata": {},
   "source": [
    "# Examining Racial Discrimination in the US Job Market\n",
    "\n",
    "### Background\n",
    "Racial discrimination continues to be pervasive in cultures throughout the world. Researchers examined the level of racial discrimination in the United States labor market by randomly assigning identical résumés to black-sounding or white-sounding names and observing the impact on requests for interviews from employers.\n",
    "\n",
    "### Data\n",
    "In the dataset provided, each row represents a resume. The 'race' column has two values, 'b' and 'w', indicating black-sounding and white-sounding. The column 'call' has two values, 1 and 0, indicating whether the resume received a call from employers or not.\n",
    "\n",
    "Note that the 'b' and 'w' values in race are assigned randomly to the resumes when presented to the employer."
   ]
  },
  {
   "cell_type": "markdown",
   "metadata": {},
   "source": [
    "### Exercises\n",
    "You will perform a statistical analysis to establish whether race has a significant impact on the rate of callbacks for resumes.\n",
    "\n",
    "Answer the following questions **in this notebook below and submit to your Github account**. \n",
    "\n",
    "   1. What test is appropriate for this problem? Does CLT apply?\n",
    "   2. What are the null and alternate hypotheses?\n",
    "   3. Compute margin of error, confidence interval, and p-value.\n",
    "   4. Write a story describing the statistical significance in the context or the original problem.\n",
    "   5. Does your analysis mean that race/name is the most important factor in callback success? Why or why not? If not, how would you amend your analysis?\n",
    "\n",
    "You can include written notes in notebook cells using Markdown: \n",
    "   - In the control panel at the top, choose Cell > Cell Type > Markdown\n",
    "   - Markdown syntax: http://nestacms.com/docs/creating-content/markdown-cheat-sheet\n",
    "\n",
    "\n",
    "#### Resources\n",
    "+ Experiment information and data source: http://www.povertyactionlab.org/evaluation/discrimination-job-market-united-states\n",
    "+ Scipy statistical methods: http://docs.scipy.org/doc/scipy/reference/stats.html \n",
    "+ Markdown syntax: http://nestacms.com/docs/creating-content/markdown-cheat-sheet\n",
    "****"
   ]
  },
  {
   "cell_type": "markdown",
   "metadata": {},
   "source": [
    "## Question Answers\n",
    "Background work below.  Note caveats after first plot.\n",
    "\n",
    "1)  *What test is appropriate for this problem? Does CLT apply?* \n",
    "\n",
    "The standard Z test is appropriate.  The degrees of freedom is large (>2000 occurrences for both \"white\" and \"black\" resumes), and the number of call backs for each race is also relatively high.  Simulation shows a very normal shape.\n",
    "\n",
    "2) *What are the null and alternate hypotheses?*\n",
    "\n",
    "The null hypothesis is that the difference in call backs **is not** race related, and the alternate hypothesis **is** that the difference is related to race.\n",
    "\n",
    "3) *Compute margin of error, confidence interval, and p-value.*\n",
    "\n",
    "From below:  Based on this analysis,the mean of the number of calls to black names/total calls is:  0.40 +/- 0.06 \n",
    "and the null hypothesis is rejected.\n",
    "\n",
    "4)  *Write a story describing the statistical significance in the context or the original problem.*\n",
    "\n",
    "Despite the fact that this study took place 15 plus years ago, race remains one of the most polarizing issues in our society today.  The sampling methodology was very carefully crafted, but despite all efforts, on an issue such as this, clarity around the data and conclusions is paramount, and potentially more important in the effort to make progress than the actual numbers.  \n",
    "\n",
    "Consequently, in this analysis, I looked at two things that could cloud the discussion: age discrimination, and low confidence levels.  First, the various plots across age show that the issue extends across most experience levels, wih the excepion of those just entering the workforce.  Second, it was important to test against a higher confidence level than typical.  In this case, I used a 99% confidence level which yielded a margin of uncertainty of approximately 6 percent.  When considered in context of the actual sample mean, it is very hard to dispute that in 2002, race played a significant role in the highering process.\n",
    "\n",
    "5)*Does your analysis mean that race/name is the most important factor in callback success? Why or why not? If not, how would you amend your analysis?*\n",
    "\n",
    "This analysis says that race was a factor, but makes no attempt to  estimate the relative importance of that factor relative to other potential issues.  The data set is more robust than this simple analysis called for, and leaves room to delve into factors such as age, location, and industry specific bias.  \n",
    "\n",
    "To understand the realtive weights, an analysis that focused on the relationship between factors would need to be specifically undertaken.  Tool such as covariance, pearson, and multi-dimensional plotting would play a large part in such an analysis."
   ]
  },
  {
   "cell_type": "code",
   "execution_count": 1,
   "metadata": {
    "collapsed": true
   },
   "outputs": [],
   "source": [
    "import pandas as pd\n",
    "import numpy as np\n",
    "from scipy import stats"
   ]
  },
  {
   "cell_type": "code",
   "execution_count": 2,
   "metadata": {
    "collapsed": true
   },
   "outputs": [],
   "source": [
    "import matplotlib.pyplot as plt\n",
    "import seaborn as sns"
   ]
  },
  {
   "cell_type": "code",
   "execution_count": 3,
   "metadata": {
    "collapsed": true
   },
   "outputs": [],
   "source": [
    "data = pd.io.stata.read_stata('data/us_job_market_discrimination.dta')"
   ]
  },
  {
   "cell_type": "code",
   "execution_count": 4,
   "metadata": {},
   "outputs": [
    {
     "name": "stdout",
     "output_type": "stream",
     "text": [
      "Call backs for black sounding names:  157.0\n",
      "Call backs for white sounding names:  235.0\n"
     ]
    }
   ],
   "source": [
    "# number of callbacks for black-sounding names\n",
    "print \"Call backs for black sounding names: \",sum(data[data.race=='b'].call)\n",
    "\n",
    "# number of callbacks for white-sounding names\n",
    "print \"Call backs for white sounding names: \",sum(data[data.race=='w'].call)"
   ]
  },
  {
   "cell_type": "code",
   "execution_count": 5,
   "metadata": {},
   "outputs": [
    {
     "data": {
      "text/html": [
       "<div>\n",
       "<style>\n",
       "    .dataframe thead tr:only-child th {\n",
       "        text-align: right;\n",
       "    }\n",
       "\n",
       "    .dataframe thead th {\n",
       "        text-align: left;\n",
       "    }\n",
       "\n",
       "    .dataframe tbody tr th {\n",
       "        vertical-align: top;\n",
       "    }\n",
       "</style>\n",
       "<table border=\"1\" class=\"dataframe\">\n",
       "  <thead>\n",
       "    <tr style=\"text-align: right;\">\n",
       "      <th></th>\n",
       "      <th>id</th>\n",
       "      <th>ad</th>\n",
       "      <th>education</th>\n",
       "      <th>ofjobs</th>\n",
       "      <th>yearsexp</th>\n",
       "      <th>honors</th>\n",
       "      <th>volunteer</th>\n",
       "      <th>military</th>\n",
       "      <th>empholes</th>\n",
       "      <th>occupspecific</th>\n",
       "      <th>...</th>\n",
       "      <th>compreq</th>\n",
       "      <th>orgreq</th>\n",
       "      <th>manuf</th>\n",
       "      <th>transcom</th>\n",
       "      <th>bankreal</th>\n",
       "      <th>trade</th>\n",
       "      <th>busservice</th>\n",
       "      <th>othservice</th>\n",
       "      <th>missind</th>\n",
       "      <th>ownership</th>\n",
       "    </tr>\n",
       "  </thead>\n",
       "  <tbody>\n",
       "    <tr>\n",
       "      <th>0</th>\n",
       "      <td>b</td>\n",
       "      <td>1</td>\n",
       "      <td>4</td>\n",
       "      <td>2</td>\n",
       "      <td>6</td>\n",
       "      <td>0</td>\n",
       "      <td>0</td>\n",
       "      <td>0</td>\n",
       "      <td>1</td>\n",
       "      <td>17</td>\n",
       "      <td>...</td>\n",
       "      <td>1.0</td>\n",
       "      <td>0.0</td>\n",
       "      <td>1.0</td>\n",
       "      <td>0.0</td>\n",
       "      <td>0.0</td>\n",
       "      <td>0.0</td>\n",
       "      <td>0.0</td>\n",
       "      <td>0.0</td>\n",
       "      <td>0.0</td>\n",
       "      <td></td>\n",
       "    </tr>\n",
       "    <tr>\n",
       "      <th>1</th>\n",
       "      <td>b</td>\n",
       "      <td>1</td>\n",
       "      <td>3</td>\n",
       "      <td>3</td>\n",
       "      <td>6</td>\n",
       "      <td>0</td>\n",
       "      <td>1</td>\n",
       "      <td>1</td>\n",
       "      <td>0</td>\n",
       "      <td>316</td>\n",
       "      <td>...</td>\n",
       "      <td>1.0</td>\n",
       "      <td>0.0</td>\n",
       "      <td>1.0</td>\n",
       "      <td>0.0</td>\n",
       "      <td>0.0</td>\n",
       "      <td>0.0</td>\n",
       "      <td>0.0</td>\n",
       "      <td>0.0</td>\n",
       "      <td>0.0</td>\n",
       "      <td></td>\n",
       "    </tr>\n",
       "    <tr>\n",
       "      <th>2</th>\n",
       "      <td>b</td>\n",
       "      <td>1</td>\n",
       "      <td>4</td>\n",
       "      <td>1</td>\n",
       "      <td>6</td>\n",
       "      <td>0</td>\n",
       "      <td>0</td>\n",
       "      <td>0</td>\n",
       "      <td>0</td>\n",
       "      <td>19</td>\n",
       "      <td>...</td>\n",
       "      <td>1.0</td>\n",
       "      <td>0.0</td>\n",
       "      <td>1.0</td>\n",
       "      <td>0.0</td>\n",
       "      <td>0.0</td>\n",
       "      <td>0.0</td>\n",
       "      <td>0.0</td>\n",
       "      <td>0.0</td>\n",
       "      <td>0.0</td>\n",
       "      <td></td>\n",
       "    </tr>\n",
       "  </tbody>\n",
       "</table>\n",
       "<p>3 rows × 65 columns</p>\n",
       "</div>"
      ],
      "text/plain": [
       "  id ad  education  ofjobs  yearsexp  honors  volunteer  military  empholes  \\\n",
       "0  b  1          4       2         6       0          0         0         1   \n",
       "1  b  1          3       3         6       0          1         1         0   \n",
       "2  b  1          4       1         6       0          0         0         0   \n",
       "\n",
       "   occupspecific    ...      compreq  orgreq  manuf  transcom  bankreal trade  \\\n",
       "0             17    ...          1.0     0.0    1.0       0.0       0.0   0.0   \n",
       "1            316    ...          1.0     0.0    1.0       0.0       0.0   0.0   \n",
       "2             19    ...          1.0     0.0    1.0       0.0       0.0   0.0   \n",
       "\n",
       "  busservice othservice  missind  ownership  \n",
       "0        0.0        0.0      0.0             \n",
       "1        0.0        0.0      0.0             \n",
       "2        0.0        0.0      0.0             \n",
       "\n",
       "[3 rows x 65 columns]"
      ]
     },
     "execution_count": 5,
     "metadata": {},
     "output_type": "execute_result"
    }
   ],
   "source": [
    "data.head(3)"
   ]
  },
  {
   "cell_type": "code",
   "execution_count": 7,
   "metadata": {
    "collapsed": true
   },
   "outputs": [],
   "source": [
    "# Setup two dfs to make analysis easy\n",
    "\n",
    "just_white_df=data.loc[data.race=='w',:]\n",
    "just_black_df=data.loc[data.race=='b',:]\n",
    "\n",
    "jwd=just_white_df\n",
    "jbd=just_black_df\n"
   ]
  },
  {
   "cell_type": "code",
   "execution_count": 9,
   "metadata": {
    "scrolled": true
   },
   "outputs": [
    {
     "data": {
      "image/png": "[encoded data removed]",
      "text/plain": [
       "<matplotlib.figure.Figure at 0xcd13668>"
      ]
     },
     "metadata": {},
     "output_type": "display_data"
    }
   ],
   "source": [
    "bins=np.arange(0,30)\n",
    "plt.hist(just_black_df.yearsexp,bins,color='r',alpha=0.5,label='b got ad')\n",
    "plt.hist(just_white_df.yearsexp,bins,color='b',alpha=0.5,label='w got ad')\n",
    "\n",
    "b_call=just_black_df.loc[just_black_df.call==1,:]\n",
    "w_call=just_white_df.loc[just_white_df.call==1,:]\n",
    "\n",
    "plt.hist(w_call.yearsexp,bins,color='g',alpha=0.5,label='w got call')\n",
    "plt.hist(b_call.yearsexp,bins,color='y',alpha=0.5,label='b got call')\n",
    "plt.xlabel(\"Yrs Experience (Age?)\")\n",
    "plt.ylabel(\"Count\")\n",
    "plt.legend(loc=\"best\")\n",
    "plt.show()"
   ]
  },
  {
   "cell_type": "code",
   "execution_count": 10,
   "metadata": {},
   "outputs": [
    {
     "data": {
      "image/png": "[encoded data removed]",
      "text/plain": [
       "<matplotlib.figure.Figure at 0xd94ebe0>"
      ]
     },
     "metadata": {},
     "output_type": "display_data"
    }
   ],
   "source": [
    "b_call=just_black_df.loc[just_black_df.call==1,:]\n",
    "w_call=just_white_df.loc[just_white_df.call==1,:]\n",
    "\n",
    "plt.hist(w_call.yearsexp,bins,color='g',alpha=0.5,label='w got call')\n",
    "plt.hist(b_call.yearsexp,bins,color='b',alpha=0.5,label='b got call')\n",
    "plt.xlabel(\"Yrs Experience (Age?)\")\n",
    "plt.ylabel(\"Count\")\n",
    "plt.legend(loc=\"best\")\n",
    "plt.show()"
   ]
  },
  {
   "cell_type": "markdown",
   "metadata": {},
   "source": [
    "Visually, it looks as if the callback rates are different between the races.  There are also clear differences across the experience and by implication, the age spectrum.  Reading through the paper indicates that there are potential sources of measurement bias (specifically: difference in resumes sent to specific employers, diferences in actual demographics across the two cities ie: at the time of the experment, and likely differences in acceptance of \"outsiders\" (Boston resumes were sent to Chicago and vice versa.) \n",
    "\n",
    "Additionally, though not stated in the excercise, but clear from the paper itself is that the experiment took place more than 15 years ago.  In that time, Chicago's \"black\" population has fallen from the mid to low 30% range (depending on source) while Boston's demographic percentages for \"white\" and \"black\" remain similar (+/-1%).  As a result of the differences over time and the regional diferences, we must completely suspend our current beliefs and assumptions about racial predjudices as they are potentially worthless and approach this as a simple mathmatical excercise.\n",
    "\n",
    "Despite all of those caveats, it still hard to believe that the magnitude of the difference (157 responses to \"black\" resumes and 235 responses \"white\" resumes) is not statistically significant."
   ]
  },
  {
   "cell_type": "code",
   "execution_count": 11,
   "metadata": {},
   "outputs": [
    {
     "name": "stdout",
     "output_type": "stream",
     "text": [
      "Identify age brackets where black response rate exceeds white response rate:\n",
      "\n",
      "Black exceeded White in  5  experience levels, and White exceeded Black in  15  experience levels\n",
      "\n",
      "\n",
      "\n"
     ]
    },
    {
     "name": "stderr",
     "output_type": "stream",
     "text": [
      "C:\\Users\\Bill\\Anaconda2\\lib\\site-packages\\ipykernel_launcher.py:6: RuntimeWarning: divide by zero encountered in long_scalars\n",
      "  \n",
      "C:\\Users\\Bill\\Anaconda2\\lib\\site-packages\\ipykernel_launcher.py:7: RuntimeWarning: divide by zero encountered in long_scalars\n",
      "  import sys\n"
     ]
    }
   ],
   "source": [
    "print \"Identify age brackets where black response rate exceeds white response rate:\\n\"\n",
    "b_count=0\n",
    "w_count=0\n",
    "\n",
    "for i in range(1,30):\n",
    "    black_rr=np.sum(jbd.loc[jbd.yearsexp==i,\"call\"])/jbd.loc[just_black_df.yearsexp==i,\"call\"].count()*100\n",
    "    white_rr=np.sum(jwd.loc[jwd.yearsexp==i,\"call\"])/jwd.loc[just_white_df.yearsexp==i,\"call\"].count()*100\n",
    "\n",
    "    if abs(black_rr-white_rr)<1.0:\n",
    "        continue\n",
    "    if(black_rr>=white_rr):\n",
    "        b_count+=1\n",
    "        #print \"Experience %d Black Response Rate %5.1f White Response Rate %5.1f\" % (i,black_rr,white_rr)\n",
    "        \n",
    "    if(black_rr<white_rr):\n",
    "        w_count+=1\n",
    "        #print \"Experience %d White Response Rate %5.1f Black Response Rate %5.1f\" % (i,white_rr,black_rr)\n",
    "        \n",
    "print \"Black exceeded White in \",b_count,\" experience levels, and White exceeded Black in \",w_count,\" experience levels\"\n",
    "print \"\\n\\n\""
   ]
  },
  {
   "cell_type": "code",
   "execution_count": 12,
   "metadata": {},
   "outputs": [
    {
     "data": {
      "image/png": "[encoded data removed]",
      "text/plain": [
       "<matplotlib.figure.Figure at 0xd06f7f0>"
      ]
     },
     "metadata": {},
     "output_type": "display_data"
    }
   ],
   "source": [
    "# Based on above cell, worth a quick plot\n",
    "diff=np.empty(30)\n",
    "exp=np.arange(1,31)\n",
    "\n",
    "for i in range(1,30):\n",
    "    diff[i]=np.sum(jbd.loc[jbd.yearsexp==i,\"call\"])-np.sum(jwd.loc[jwd.yearsexp==i,\"call\"])\n",
    "tl=[-15,-12,-9,-6,-3,0,3]\n",
    "plt.bar(exp,diff)\n",
    "plt.xlabel(\"Years of Experience\")\n",
    "plt.yticks(tl)\n",
    "plt.title(\"Black Calls-White Calls\")\n",
    "plt.show()\n"
   ]
  },
  {
   "cell_type": "markdown",
   "metadata": {},
   "source": [
    "Plot above shows diference in call back rates across range of experiences."
   ]
  },
  {
   "cell_type": "code",
   "execution_count": 16,
   "metadata": {},
   "outputs": [
    {
     "name": "stderr",
     "output_type": "stream",
     "text": [
      "C:\\Users\\Bill\\Anaconda2\\lib\\site-packages\\ipykernel_launcher.py:7: SettingWithCopyWarning: \n",
      "A value is trying to be set on a copy of a slice from a DataFrame.\n",
      "Try using .loc[row_indexer,col_indexer] = value instead\n",
      "\n",
      "See the caveats in the documentation: http://pandas.pydata.org/pandas-docs/stable/indexing.html#indexing-view-versus-copy\n",
      "  import sys\n"
     ]
    },
    {
     "name": "stdout",
     "output_type": "stream",
     "text": [
      "pvalue  0.0000\n"
     ]
    }
   ],
   "source": [
    "#  Test null hypothesis\n",
    "\n",
    "call_back_df=data.loc[data.call==1,:]\n",
    "cbd=call_back_df\n",
    "num_calls=cbd.call.count()\n",
    "\n",
    "cbd[\"black_call\"]= cbd[\"race\"].apply(lambda x : 1 if x == 'b' else 0)\n",
    "cbd_array=cbd.black_call.values\n",
    "\n",
    "num_tests=20000\n",
    "test_stat_array=np.empty(num_tests)\n",
    "for j in range(num_tests):\n",
    "    count=0\n",
    "    for i in range(len(cbd_array)):\n",
    "        bc_sample=np.random.choice(cbd.black_call,1,replace=True)\n",
    "        if bc_sample==1:\n",
    "            count+=1\n",
    "    test_stat_array[j]=float(count)/num_calls\n",
    "    \n",
    "pvalue=np.sum(test_stat_array>=0.5)/float(num_tests)\n",
    "\n",
    "print \"pvalue %7.4f\" % pvalue\n",
    "    \n",
    "    \n"
   ]
  },
  {
   "cell_type": "code",
   "execution_count": 17,
   "metadata": {},
   "outputs": [
    {
     "data": {
      "image/png": "[encoded data removed]",
      "text/plain": [
       "<matplotlib.figure.Figure at 0xd861c18>"
      ]
     },
     "metadata": {},
     "output_type": "display_data"
    }
   ],
   "source": [
    "plt.hist(test_stat_array,bins=25)\n",
    "plt.show()"
   ]
  },
  {
   "cell_type": "code",
   "execution_count": 18,
   "metadata": {},
   "outputs": [
    {
     "name": "stdout",
     "output_type": "stream",
     "text": [
      "\n",
      "Based on this analysis,the mean of the number of calls to black names/total calls is:  0.40 with a +/- 0.06 percent margin of error\n",
      "and the null hypothesis is rejected\n"
     ]
    }
   ],
   "source": [
    "#calculate margin of error for a 99% confidence\n",
    "#\n",
    "\n",
    "phat=np.sum(cbd_array)/float(num_calls)\n",
    "percentile=np.empty(2)\n",
    "\n",
    "std_err=np.sqrt(phat*(1.0-phat)/float(num_calls))\n",
    "zval99=2.58\n",
    "mar_err99=zval99*std_err\n",
    "sample_mean=np.mean(cbd_array)\n",
    "\n",
    "acc_rej=\"acepted\"\n",
    "if mar_err99+sample_mean<.5:\n",
    "    acc_rej=\"rejected\"\n",
    "    \n",
    "print \"\\nBased on this analysis,the mean of the number of calls to black names/total calls is: %5.2f with a \\\n",
    "+/- %4.2f percent margin of error\" %(sample_mean, mar_err99)                                                                                                 \n",
    "print \"and the null hypothesis is\",acc_rej\n",
    "    \n"
   ]
  },
  {
   "cell_type": "code",
   "execution_count": null,
   "metadata": {},
   "outputs": [],
   "source": []
  }
 ],
 "metadata": {
  "kernelspec": {
   "display_name": "Python 2",
   "language": "python",
   "name": "python2"
  },
  "language_info": {
   "codemirror_mode": {
    "name": "ipython",
    "version": 2
   },
   "file_extension": ".py",
   "mimetype": "text/x-python",
   "name": "python",
   "nbconvert_exporter": "python",
   "pygments_lexer": "ipython2",
   "version": "2.7.13"
  }
 },
 "nbformat": 4,
 "nbformat_minor": 1
}
