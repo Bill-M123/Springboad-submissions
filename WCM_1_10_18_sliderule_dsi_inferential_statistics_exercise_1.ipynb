{
 "cells": [
  {
   "cell_type": "markdown",
   "metadata": {},
   "source": [
    "# What is the True Normal Human Body Temperature? \n",
    "\n",
    "#### Background\n",
    "\n",
    "The mean normal body temperature was held to be 37$^{\\circ}$C or 98.6$^{\\circ}$F for more than 120 years since it was first conceptualized and reported by Carl Wunderlich in a famous 1868 book. But, is this value statistically correct?"
   ]
  },
  {
   "cell_type": "markdown",
   "metadata": {},
   "source": [
    "<h3>Exercises</h3>\n",
    "\n",
    "<p>In this exercise, you will analyze a dataset of human body temperatures and employ the concepts of hypothesis testing, confidence intervals, and statistical significance.</p>\n",
    "\n",
    "<p>Answer the following questions <b>in this notebook below and submit to your Github account</b>.</p> \n",
    "\n",
    "<ol>\n",
    "<li>  Is the distribution of body temperatures normal? \n",
    "    <ul>\n",
    "    <li> Although this is not a requirement for CLT to hold (read CLT carefully), it gives us some peace of mind that the population may also be normally distributed if we assume that this sample is representative of the population.\n",
    "    </ul>\n",
    "<li>  Is the sample size large? Are the observations independent?\n",
    "    <ul>\n",
    "    <li> Remember that this is a condition for the CLT, and hence the statistical tests we are using, to apply.\n",
    "    </ul>\n",
    "<li>  Is the true population mean really 98.6 degrees F?\n",
    "    <ul>\n",
    "    <li> Would you use a one-sample or two-sample test? Why?\n",
    "    <li> In this situation, is it appropriate to use the $t$ or $z$ statistic? \n",
    "    <li> Now try using the other test. How is the result be different? Why?\n",
    "    </ul>\n",
    "<li>  Draw a small sample of size 10 from the data and repeat both tests. \n",
    "    <ul>\n",
    "    <li> Which one is the correct one to use? \n",
    "    <li> What do you notice? What does this tell you about the difference in application of the $t$ and $z$ statistic?\n",
    "    </ul>\n",
    "<li>  At what temperature should we consider someone's temperature to be \"abnormal\"?\n",
    "    <ul>\n",
    "    <li> Start by computing the margin of error and confidence interval.\n",
    "    </ul>\n",
    "<li>  Is there a significant difference between males and females in normal temperature?\n",
    "    <ul>\n",
    "    <li> What test did you use and why?\n",
    "    <li> Write a story with your conclusion in the context of the original problem.\n",
    "    </ul>\n",
    "</ol>\n",
    "\n",
    "You can include written notes in notebook cells using Markdown: \n",
    "   - In the control panel at the top, choose Cell > Cell Type > Markdown\n",
    "   - Markdown syntax: http://nestacms.com/docs/creating-content/markdown-cheat-sheet\n",
    "\n",
    "#### Resources\n",
    "\n",
    "+ Information and data sources: http://www.amstat.org/publications/jse/datasets/normtemp.txt, http://www.amstat.org/publications/jse/jse_data_archive.htm\n",
    "+ Markdown syntax: http://nestacms.com/docs/creating-content/markdown-cheat-sheet\n",
    "\n",
    "****"
   ]
  },
  {
   "cell_type": "code",
   "execution_count": 1,
   "metadata": {},
   "outputs": [],
   "source": [
    "import pandas as pd\n",
    "########################################\n",
    "# Change path to run on machine.  \n",
    "########################################\n",
    "\n",
    "#df = pd.read_csv('data/human_body_temperature.csv')\n",
    "df = pd.read_csv('C:\\\\Users\\\\Bill\\\\human_temp\\\\data\\\\human_body_temperature.csv')"
   ]
  },
  {
   "cell_type": "code",
   "execution_count": 2,
   "metadata": {
    "collapsed": true
   },
   "outputs": [],
   "source": [
    "import numpy as np\n",
    "import matplotlib.pyplot as plt\n",
    "import seaborn as sns"
   ]
  },
  {
   "cell_type": "code",
   "execution_count": 3,
   "metadata": {},
   "outputs": [
    {
     "data": {
      "text/html": [
       "<div>\n",
       "<style>\n",
       "    .dataframe thead tr:only-child th {\n",
       "        text-align: right;\n",
       "    }\n",
       "\n",
       "    .dataframe thead th {\n",
       "        text-align: left;\n",
       "    }\n",
       "\n",
       "    .dataframe tbody tr th {\n",
       "        vertical-align: top;\n",
       "    }\n",
       "</style>\n",
       "<table border=\"1\" class=\"dataframe\">\n",
       "  <thead>\n",
       "    <tr style=\"text-align: right;\">\n",
       "      <th></th>\n",
       "      <th>temperature</th>\n",
       "      <th>gender</th>\n",
       "      <th>heart_rate</th>\n",
       "    </tr>\n",
       "  </thead>\n",
       "  <tbody>\n",
       "    <tr>\n",
       "      <th>0</th>\n",
       "      <td>99.3</td>\n",
       "      <td>F</td>\n",
       "      <td>68.0</td>\n",
       "    </tr>\n",
       "    <tr>\n",
       "      <th>1</th>\n",
       "      <td>98.4</td>\n",
       "      <td>F</td>\n",
       "      <td>81.0</td>\n",
       "    </tr>\n",
       "    <tr>\n",
       "      <th>2</th>\n",
       "      <td>97.8</td>\n",
       "      <td>M</td>\n",
       "      <td>73.0</td>\n",
       "    </tr>\n",
       "  </tbody>\n",
       "</table>\n",
       "</div>"
      ],
      "text/plain": [
       "   temperature gender  heart_rate\n",
       "0         99.3      F        68.0\n",
       "1         98.4      F        81.0\n",
       "2         97.8      M        73.0"
      ]
     },
     "execution_count": 3,
     "metadata": {},
     "output_type": "execute_result"
    }
   ],
   "source": [
    "df.head(3)"
   ]
  },
  {
   "cell_type": "code",
   "execution_count": 4,
   "metadata": {},
   "outputs": [
    {
     "name": "stdout",
     "output_type": "stream",
     "text": [
      "<class 'pandas.core.frame.DataFrame'>\n",
      "RangeIndex: 130 entries, 0 to 129\n",
      "Data columns (total 3 columns):\n",
      "temperature    130 non-null float64\n",
      "gender         130 non-null object\n",
      "heart_rate     130 non-null float64\n",
      "dtypes: float64(2), object(1)\n",
      "memory usage: 3.1+ KB\n"
     ]
    }
   ],
   "source": [
    "df.info()"
   ]
  },
  {
   "cell_type": "code",
   "execution_count": 5,
   "metadata": {},
   "outputs": [
    {
     "data": {
      "text/html": [
       "<div>\n",
       "<style>\n",
       "    .dataframe thead tr:only-child th {\n",
       "        text-align: right;\n",
       "    }\n",
       "\n",
       "    .dataframe thead th {\n",
       "        text-align: left;\n",
       "    }\n",
       "\n",
       "    .dataframe tbody tr th {\n",
       "        vertical-align: top;\n",
       "    }\n",
       "</style>\n",
       "<table border=\"1\" class=\"dataframe\">\n",
       "  <thead>\n",
       "    <tr style=\"text-align: right;\">\n",
       "      <th></th>\n",
       "      <th>temperature</th>\n",
       "      <th>heart_rate</th>\n",
       "    </tr>\n",
       "  </thead>\n",
       "  <tbody>\n",
       "    <tr>\n",
       "      <th>count</th>\n",
       "      <td>130.000000</td>\n",
       "      <td>130.000000</td>\n",
       "    </tr>\n",
       "    <tr>\n",
       "      <th>mean</th>\n",
       "      <td>98.249231</td>\n",
       "      <td>73.761538</td>\n",
       "    </tr>\n",
       "    <tr>\n",
       "      <th>std</th>\n",
       "      <td>0.733183</td>\n",
       "      <td>7.062077</td>\n",
       "    </tr>\n",
       "    <tr>\n",
       "      <th>min</th>\n",
       "      <td>96.300000</td>\n",
       "      <td>57.000000</td>\n",
       "    </tr>\n",
       "    <tr>\n",
       "      <th>25%</th>\n",
       "      <td>97.800000</td>\n",
       "      <td>69.000000</td>\n",
       "    </tr>\n",
       "    <tr>\n",
       "      <th>50%</th>\n",
       "      <td>98.300000</td>\n",
       "      <td>74.000000</td>\n",
       "    </tr>\n",
       "    <tr>\n",
       "      <th>75%</th>\n",
       "      <td>98.700000</td>\n",
       "      <td>79.000000</td>\n",
       "    </tr>\n",
       "    <tr>\n",
       "      <th>max</th>\n",
       "      <td>100.800000</td>\n",
       "      <td>89.000000</td>\n",
       "    </tr>\n",
       "  </tbody>\n",
       "</table>\n",
       "</div>"
      ],
      "text/plain": [
       "       temperature  heart_rate\n",
       "count   130.000000  130.000000\n",
       "mean     98.249231   73.761538\n",
       "std       0.733183    7.062077\n",
       "min      96.300000   57.000000\n",
       "25%      97.800000   69.000000\n",
       "50%      98.300000   74.000000\n",
       "75%      98.700000   79.000000\n",
       "max     100.800000   89.000000"
      ]
     },
     "execution_count": 5,
     "metadata": {},
     "output_type": "execute_result"
    }
   ],
   "source": [
    "df.describe()"
   ]
  },
  {
   "cell_type": "code",
   "execution_count": 6,
   "metadata": {},
   "outputs": [
    {
     "data": {
      "image/png": "[encoded data removed]",
      "text/plain": [
       "<matplotlib.figure.Figure at 0xbeebe80>"
      ]
     },
     "metadata": {},
     "output_type": "display_data"
    }
   ],
   "source": [
    "plt.hist(df.temperature,bins=7)\n",
    "plt.show()"
   ]
  },
  {
   "cell_type": "code",
   "execution_count": 7,
   "metadata": {
    "collapsed": true
   },
   "outputs": [],
   "source": [
    "np.random.seed(42)"
   ]
  },
  {
   "cell_type": "markdown",
   "metadata": {},
   "source": [
    "Question 1:  Is the data normal?\n",
    "\n",
    "Answer: No.  A visual inspection varying bin size show a consistent difference in the shape of the left and righ tails.\n",
    "\n",
    "\n"
   ]
  },
  {
   "cell_type": "markdown",
   "metadata": {},
   "source": [
    "Question 2: Is the sample size large? Are the observations independent?\n",
    "\n",
    "There are 65 male and 65 female observations.  In both cases, n>30. The description of the measurement methodology is not given, so I assume each observation is a separate subject (rather than multiple measurements of the same person) and that the instrumentation is well calibrated and in good working order.  With these conditions, the data can be assumed to be independent and the CLT holds true.\n",
    "\n",
    "    Remember that this is a condition for the CLT, and hence the statistical tests we are using, to apply. "
   ]
  },
  {
   "cell_type": "code",
   "execution_count": 8,
   "metadata": {},
   "outputs": [
    {
     "name": "stdout",
     "output_type": "stream",
     "text": [
      "temperature    65\n",
      "gender         65\n",
      "heart_rate     65\n",
      "dtype: int64\n",
      "temperature    65\n",
      "gender         65\n",
      "heart_rate     65\n",
      "dtype: int64\n"
     ]
    }
   ],
   "source": [
    "print df.loc[df.gender=='F',:].count()\n",
    "print df.loc[df.gender=='M',:].count()"
   ]
  },
  {
   "cell_type": "markdown",
   "metadata": {},
   "source": [
    "Q3:  Is the true population mean really 98.6 degrees F?\n",
    "\n",
    "It is unlikely that the true population mean is 98.6.  For women the z score indicates a 98.8% confidence and for men, it is significantly higher.  See next cell.  Applying the T test with 35 degrees of freedom yields a 99% confidence and significantly higher for men that the sample mean in NOT 98.6 for either men or women.\n"
   ]
  },
  {
   "cell_type": "code",
   "execution_count": 9,
   "metadata": {},
   "outputs": [
    {
     "name": "stdout",
     "output_type": "stream",
     "text": [
      "Mean temp for women is 98.39  with a Zscore of -2.25289521427\n",
      "Mean temp for men is 98.10  with a Zscore of -5.7602387229\n"
     ]
    }
   ],
   "source": [
    "def zscore(target_mean,data):\n",
    "    '''data is received in np array'''\n",
    "    sample_mean=np.mean(data)\n",
    "    zscore=(sample_mean-target_mean)/(np.std(data)/np.sqrt(len(data)))\n",
    "    return zscore\n",
    "\n",
    "print \"Mean temp for women is %5.2f\"%df.loc[(df.gender=='F'),\"temperature\"].mean(),\" with a Zscore of\",zscore(98.6,df.loc[(df.gender=='F'),\"temperature\"])\n",
    "print \"Mean temp for men is %5.2f\"%df.loc[(df.gender=='M'),\"temperature\"].mean(),\" with a Zscore of\",zscore(98.6,df.loc[(df.gender=='M'),\"temperature\"])\n",
    "    "
   ]
  },
  {
   "cell_type": "markdown",
   "metadata": {},
   "source": [
    "Q4)  Draw a small sample of size 10 from the data and repeat both tests.\n",
    "The ztest for women gives lower but still confidence hat the same mean is not 98.6 degrees.  For women it is 91.6% and men it is 94.2% confidence.\n",
    "\n",
    "The T test shows a 90% confidence for women and something between 90% and 95% confidence for men that the mean is not 98.6 for the sample.  In this case, the T test is more appropriate because the number of observations is so small.\n"
   ]
  },
  {
   "cell_type": "code",
   "execution_count": 28,
   "metadata": {},
   "outputs": [
    {
     "name": "stdout",
     "output_type": "stream",
     "text": [
      "Resampled case, 10 observations each gender\n",
      "Mean temp for women is 98.70  with a Zscore of  0.49\n",
      "Mean temp for men is 98.37  with a Zscore of -1.09\n"
     ]
    }
   ],
   "source": [
    "#Split DF into gender\n",
    "just_women_df=df.loc[(df.gender=='F'),\"temperature\"]\n",
    "just_men_df=df.loc[(df.gender=='M'),\"temperature\"]\n",
    "\n",
    "women_resampled=np.empty(10)\n",
    "men_resampled=np.empty(10)\n",
    "\n",
    "women_resampled=np.random.choice(just_women_df,10)\n",
    "men_resampled=np.random.choice(just_men_df,10)\n",
    "\n",
    "print \"Resampled case, 10 observations each gender\"\n",
    "print \"Mean temp for women is %5.2f\"%np.mean(women_resampled),\" with a Zscore of %5.2f\"%zscore(98.6,women_resampled)\n",
    "print \"Mean temp for men is %5.2f\"%np.mean(men_resampled),\" with a Zscore of %5.2f\"%zscore(98.6,men_resampled)"
   ]
  },
  {
   "cell_type": "markdown",
   "metadata": {},
   "source": [
    "Q5) At what temperature should we consider someone's temperature to be \"abnormal\"?\n",
    "\n",
    "For discussion, assume an abnomal temperature would be outside the standard whiskers on a Box and Whiskers plot, or, +/1 1.5 * IQR.  The cell below calculates appropriate highs and lows for women and men.  For simplicity, women's temperatures should be considered abnormal if outside the range: 97.2-99.6 and men outside the range 96.6-99.6.  It is also important to note that the shape of the tails was different, and the the female population had a larger number of outliers\n",
    " "
   ]
  },
  {
   "cell_type": "code",
   "execution_count": 33,
   "metadata": {},
   "outputs": [
    {
     "name": "stdout",
     "output_type": "stream",
     "text": [
      "Women mean:  98.4 wih a standard deviation of:   0.7\n",
      "Women IQR: [ 98.   98.8]\n",
      "Women abnormal high:  99.6\n",
      "Women abnormal low:  97.2\n",
      "\n",
      "Men mean:  98.1 wih a standard deviation of:   0.7\n",
      "Men IQR: [ 97.6  98.6]\n",
      "Men abnormal high:  99.6\n",
      "Men abnormal low:  96.6\n"
     ]
    },
    {
     "data": {
      "image/png": "[encoded data removed]",
      "text/plain": [
       "<matplotlib.figure.Figure at 0xc3ec438>"
      ]
     },
     "metadata": {},
     "output_type": "display_data"
    }
   ],
   "source": [
    "women_mean=np.mean(just_women_df)\n",
    "women_std=np.std(just_women_df)\n",
    "print \"Women mean: %5.1f\" % women_mean, \"wih a standard deviation of: %5.1f\" % women_std\n",
    "print \"Women IQR:\",np.percentile(just_women_df,[25,75])\n",
    "iqr_temp=np.percentile(just_women_df,75)-np.percentile(just_women_df,25)\n",
    "print \"Women abnormal high: %5.1f\" % (women_mean+1.5*iqr_temp)\n",
    "print \"Women abnormal low: %5.1f\" % (women_mean-1.5*iqr_temp)\n",
    "\n",
    "men_mean=np.mean(just_men_df)\n",
    "men_std=np.std(just_women_df)\n",
    "print \"\\nMen mean: %5.1f\" % men_mean, \"wih a standard deviation of: %5.1f\" % men_std\n",
    "print \"Men IQR:\",np.percentile(just_men_df,[25,75])\n",
    "miqr_temp=np.percentile(just_men_df,75)-np.percentile(just_men_df,25)\n",
    "print \"Men abnormal high: %5.1f\" % (men_mean+1.5*miqr_temp)\n",
    "print \"Men abnormal low: %5.1f\" % (men_mean-1.5*miqr_temp)\n",
    "\n",
    "sns.boxplot(x=\"gender\",y=\"temperature\",data=df)\n",
    "plt.show()"
   ]
  },
  {
   "cell_type": "code",
   "execution_count": 43,
   "metadata": {},
   "outputs": [
    {
     "data": {
      "image/png": "[encoded data removed]",
      "text/plain": [
       "<matplotlib.figure.Figure at 0xd0b0c88>"
      ]
     },
     "metadata": {},
     "output_type": "display_data"
    }
   ],
   "source": [
    "bins = np.linspace(df.temperature.min()-1, df.temperature.max()+1, 9)\n",
    "\n",
    "plt.hist(just_women_df,bins,alpha=0.5, label='Women',color='b')\n",
    "plt.hist(just_men_df,bins,alpha=0.5, label='Men',color='r')\n",
    "plt.xlabel(\"Measured Temperature\")\n",
    "plt.ylabel(\"Count\")\n",
    "plt.legend(loc='best')\n",
    "\n",
    "plt.show()"
   ]
  },
  {
   "cell_type": "markdown",
   "metadata": {},
   "source": [
    "Q6) Is there a significant difference between males and females in normal temperature?\n",
    "\n",
    "In testing 130 subjects, half men and half women, women's mean temperture was slightly higher than men (by 0.3F), and had ouliers on the high side of the distribution.  While the standard deviation is the same, the spread of the distribution is different, and though the \"abnormal\" levels on the high side are mathematically the same, it is likely that a screen at 99.6 degrees will generate more false positives for illness in women than in men.\n"
   ]
  }
 ],
 "metadata": {
  "kernelspec": {
   "display_name": "Python 2",
   "language": "python",
   "name": "python2"
  },
  "language_info": {
   "codemirror_mode": {
    "name": "ipython",
    "version": 2
   },
   "file_extension": ".py",
   "mimetype": "text/x-python",
   "name": "python",
   "nbconvert_exporter": "python",
   "pygments_lexer": "ipython2",
   "version": "2.7.13"
  }
 },
 "nbformat": 4,
 "nbformat_minor": 1
}
